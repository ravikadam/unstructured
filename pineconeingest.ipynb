{
 "cells": [
  {
   "cell_type": "code",
   "execution_count": 4,
   "id": "a1888657-c6c8-4ba8-af44-ba2116c5c561",
   "metadata": {},
   "outputs": [],
   "source": [
    "from unstructured.partition.pdf import partition_pdf_or_image\n",
    "# with hi_res strategy it takes more than a hour to execute. \n",
    "elements = partition_pdf_or_image(\"./data/otherfiles/oraclerecruitmentmanual.pdf\", strategy='hi_res')"
   ]
  },
  {
   "cell_type": "code",
   "execution_count": 111,
   "id": "26c84a86-6d36-4ebb-95d1-b396c3c033cb",
   "metadata": {},
   "outputs": [
    {
     "data": {
      "text/plain": [
       "[<unstructured.documents.elements.Title at 0x7f1ef6e02dd0>,\n",
       " <unstructured.documents.elements.Title at 0x7f1ea477ea90>,\n",
       " <unstructured.documents.elements.Image at 0x7f1ea477edd0>,\n",
       " <unstructured.documents.elements.NarrativeText at 0x7f1ea477eed0>,\n",
       " <unstructured.documents.elements.NarrativeText at 0x7f1ea477f050>,\n",
       " <unstructured.documents.elements.NarrativeText at 0x7f1ea477f0d0>,\n",
       " <unstructured.documents.elements.NarrativeText at 0x7f1ea477f1d0>,\n",
       " <unstructured.documents.elements.NarrativeText at 0x7f1ea477f290>,\n",
       " <unstructured.documents.elements.Header at 0x7f1ea477f3d0>,\n",
       " <unstructured.documents.elements.Title at 0x7f1ea477e8d0>]"
      ]
     },
     "execution_count": 111,
     "metadata": {},
     "output_type": "execute_result"
    }
   ],
   "source": [
    "elements[0:10]"
   ]
  },
  {
   "cell_type": "code",
   "execution_count": 6,
   "id": "ea5d1576-f672-400b-b0c7-69f2705be6c9",
   "metadata": {},
   "outputs": [
    {
     "data": {
      "text/plain": [
       "11234"
      ]
     },
     "execution_count": 6,
     "metadata": {},
     "output_type": "execute_result"
    }
   ],
   "source": [
    "len(elements)"
   ]
  },
  {
   "cell_type": "code",
   "execution_count": 19,
   "id": "e6ba04b2-8774-465e-8d7d-bc7edd574889",
   "metadata": {},
   "outputs": [
    {
     "data": {
      "text/plain": [
       "'Overview of Implementing Recruiting ........................................................................................................................................ 1 Recruiting and Candidate Experience Offering ....................................................................................................................... 2 Recruiting Setup and Maintenance Tasks ................................................................................................................................. 2 Deep Links ...................................................................................................................................................................................... 12 Maintaining Oracle Search for Oracle Recruiting ................................................................................................................... 12 Deactivate Oracle Search for US Government Cage Customers ........................................................................................ 15 Enable Oracle Search for Recruiting List of Values ............................................................................................................... 15'"
      ]
     },
     "execution_count": 19,
     "metadata": {},
     "output_type": "execute_result"
    }
   ],
   "source": [
    "str(elements[11])"
   ]
  },
  {
   "cell_type": "code",
   "execution_count": 20,
   "id": "ceeb3692-eabb-490e-a908-486878e7f75e",
   "metadata": {},
   "outputs": [
    {
     "data": {
      "text/plain": [
       "{unstructured.documents.elements.FigureCaption,\n",
       " unstructured.documents.elements.Header,\n",
       " unstructured.documents.elements.Image,\n",
       " unstructured.documents.elements.ListItem,\n",
       " unstructured.documents.elements.NarrativeText,\n",
       " unstructured.documents.elements.Table,\n",
       " unstructured.documents.elements.Text,\n",
       " unstructured.documents.elements.Title}"
      ]
     },
     "execution_count": 20,
     "metadata": {},
     "output_type": "execute_result"
    }
   ],
   "source": [
    "set([type(e) for e in elements])"
   ]
  },
  {
   "cell_type": "code",
   "execution_count": 21,
   "id": "ecc7f7ee-964f-4e53-99a7-9d1272c582f5",
   "metadata": {},
   "outputs": [],
   "source": [
    "from unstructured.chunking.title import chunk_by_title"
   ]
  },
  {
   "cell_type": "code",
   "execution_count": 22,
   "id": "4fcc3b77-7bd7-4175-8376-1a840af7c2f5",
   "metadata": {},
   "outputs": [],
   "source": [
    "chunks = chunk_by_title(elements)"
   ]
  },
  {
   "cell_type": "code",
   "execution_count": 30,
   "id": "deaa7a49-01ae-40ee-8668-2ba31e913381",
   "metadata": {},
   "outputs": [
    {
     "data": {
      "text/plain": [
       "{'last_modified': '2024-11-17T03:24:43',\n",
       " 'filetype': 'PPM',\n",
       " 'languages': ['eng'],\n",
       " 'page_number': 3,\n",
       " 'orig_elements': 'eJzNlFFr2zAUhf+K0HMcJNmO47y2ZQxaUpZsLyEYxb52xGzJSHKaUPrfd+U0EGifBlsqsJGOdODT0ZU2rxRa6ED7QlV0QWg253E+z1i0y+N5lJQsjXKWpJFIMsbFTsxyweiE0A68rKSX6HmlpTG2Ulp6cOO4lScz+GIPqtl7VIRgDD3v8ouq/B5Vno1qb5T2wbfZ8JmYJhOSJvOp2E7IZZzH6fs4zXHmE+HsQIW6k/PQhZ08qyO0q16WQN9wogIPpVdGF2UrnSt6a3a4jE3jbMZSXFCrFvyph9H7/ERHYN0Mshl3taGgG7odVeeLzlSqVjBmJphIIs4jnq1ZvBDJIomDu0dnoYduBxZXxQHCwzHkQZcHsAcFL8TU5HvXn09A6Yb8gNIOauxOv0gj/JpK6orc4U/h4QN5OPZgFegSyLKusXs7biKuMVfgh36EfZJYXqBlYFxL99vdPlhEvQfoyaPSXwHnrxrh4hwtfiHwpZVlC5i7tOWe1MZelNtWdMC8B4kX/xDq9SPlzxX5ZvA26nADsbIbIHeD86YD+++OhvCUPGi5az8jugrsUTkfnohfsh3gv1cKUoZn7PImrgMvfdv+AcHfeq8='}"
      ]
     },
     "execution_count": 30,
     "metadata": {},
     "output_type": "execute_result"
    }
   ],
   "source": [
    "chunks[1].metadata.to_dict()"
   ]
  },
  {
   "cell_type": "code",
   "execution_count": 23,
   "id": "ab054c5a-7c35-43a0-b6bd-66358dac92cc",
   "metadata": {},
   "outputs": [
    {
     "data": {
      "text/plain": [
       "3131"
      ]
     },
     "execution_count": 23,
     "metadata": {},
     "output_type": "execute_result"
    }
   ],
   "source": [
    "len(chunks)"
   ]
  },
  {
   "cell_type": "code",
   "execution_count": 24,
   "id": "861bd22e-4599-4ecd-91f9-25ec18ce67ba",
   "metadata": {},
   "outputs": [
    {
     "data": {
      "text/plain": [
       "'Oracle Fusion Cloud Talent Management\\n\\nImplementing Recruiting\\n\\n24D \\n\\nOracle Fusion Cloud Talent Management Implementing Recruiting\\n\\n24D\\n\\nG12668-03\\n\\nCopyright © 2011, 2024, Oracle and/or its affiliates.\\n\\nAuthor: Viviane Filloles\\n\\nOracle Fusion Cloud Talent Management Implementing Recruiting\\n\\nContents\\n\\nGet Help ................................................................................................................................ i'"
      ]
     },
     "execution_count": 24,
     "metadata": {},
     "output_type": "execute_result"
    }
   ],
   "source": [
    "str(chunks[0])"
   ]
  },
  {
   "cell_type": "code",
   "execution_count": 13,
   "id": "dfb07e89-49fd-4c04-88c8-1257644ba550",
   "metadata": {},
   "outputs": [
    {
     "data": {
      "text/plain": [
       "{'filetype': 'PPM',\n",
       " 'languages': ['eng'],\n",
       " 'last_modified': '2024-11-17T03:24:43',\n",
       " 'page_number': 1,\n",
       " 'orig_elements': 'eJzFl02P2zYQhv+KoHOokhx+7q3YokkOaYN228tmYfBLXgGyZMhymm3Q/94RpW2TrFHsGpDrk9/xDE3OgxkObz+XqU271I2bJpZXRWkjl8oITpwMnghDa2JDYgS4rAPVDmKA8lVR7tLoohsdxnwuQ98PsencmA5Zt+6hP46b+9Rs70e0cE4pxizmP5o43qOV6Wzd9003TnG3t1zSCk3S8krcvSoeNaMgKj4ZGLXitGWOQUt5eDiMaTed5X3zKbW/7l1I5V/4Q0xjCmPTd5vQusNhsx96j260AiEloEPdtGl82Kcc+/5dmbfcbY9um891W6ZuW95l62Hc7PrY1E3KWeOUC8IYYfqGwhUXVyInaY+Rm+6482mYzjttYkyfpoyUPw8utKn48XjADRXXbX+MxY1rEUTxznUYNzGZ1njc0E0ztvkc3xIDZWOopSLgOCXCO0UsV4xIFoF7g0A1W4+YopVBHszaCjKyxcC1rugCCDN80jIHnceMK1AXRvZ2t58T33Tb4pcUhmMzfX0WJCnAGCECEdJqIhAKsTUoElRNYy1FAFOvCAkyE1BmLppHg4AFCSARfcowh5xdVuLSZcXFD8WXQN7u0PcUEA7eU88kocElIrTQxErhCJMQwEXvtDGrAWFM5exSPhfNo5amMpOWHE7q7H8eDG0p8PVh8Bf3uOIZZfWTGwY3Nh/TzbTyCZqRhSiQE7HeRqwxCsQno4jhtRBGeeoiX5GmrBjSMXSmtWhOzUIXMeqnevY/j6aa7ugL08TSehETMELVyQAJDoAIqjzxQnsCknG8AlLySq7KZMo5sH+ZTFraSucOyHXFT+jsf2aF0UsMEV8hec24UoZQeBGYkILHS4eRqKgiwtURi8UGUvvAay8Vt5BWBTMl2sBj68saqK3UpBU3lXqqZ//zwBjGLw3mut8/DFNmig9HSp3F4me5JXCs2qUtui5+1w9FMx4KV+Pmmim31YtIMopdz9WcpGRwtIiR4rCugEivtRZOCObsqpcYngb+mcQXjQOgzCMEDu+ndPY/s8SkUebCKL8/jvf9cFX83nxsXIe3WdO2fYv/8xJQSgMiwVtJxKkXRj2V3PS0SsppJjwzbsVeSJdXFFtKbtFSz+Ak1Sd19j8XlL3E6AerTBtvkou4/AmMQkaPAzwjnmmDndPiwGGwfeLQiM9ix1jt15viF2xcwPw4XjSwRYOF3Em/0bP/mRiFBHlhjNd9N6bpzM95VgmvjAm1I84yfFbhFUwsUw7nPhmlpUrIesUGqHSF2RE4nNsMZNGKLzOHmgk9NeSI/0RyyYy/TmPxJrX7ovqfP0XzJfTfuoCItv3Q/Jni3Fjv/gbeBGLQ'}"
      ]
     },
     "execution_count": 13,
     "metadata": {},
     "output_type": "execute_result"
    }
   ],
   "source": [
    "chunks[0].metadata.to_dict()"
   ]
  },
  {
   "cell_type": "code",
   "execution_count": 31,
   "id": "62f15a88-254b-4734-bb5c-3eb04bc65c42",
   "metadata": {},
   "outputs": [
    {
     "data": {
      "text/plain": [
       "{unstructured.documents.elements.CompositeElement,\n",
       " unstructured.documents.elements.Table,\n",
       " unstructured.documents.elements.TableChunk}"
      ]
     },
     "execution_count": 31,
     "metadata": {},
     "output_type": "execute_result"
    }
   ],
   "source": [
    "set([type(e) for e in chunks])"
   ]
  },
  {
   "cell_type": "code",
   "execution_count": 65,
   "id": "adb21dfc-e212-4b29-b0ee-f7b5f7df2389",
   "metadata": {},
   "outputs": [],
   "source": [
    "newchunks = []\n",
    "i = 0\n",
    "for c in chunks:\n",
    "    d = c.metadata.to_dict()\n",
    "    del d['orig_elements']\n",
    "    d['id'] = 'm'+str(i)\n",
    "    d['text'] = str(c)\n",
    "    d['source'] = 'Manual'\n",
    "    newchunks.append(d)\n",
    "    i = i + 1"
   ]
  },
  {
   "cell_type": "code",
   "execution_count": 66,
   "id": "0b51c3a5-6a30-4f9f-8d62-f77c05c12ab8",
   "metadata": {},
   "outputs": [
    {
     "data": {
      "text/plain": [
       "[{'filetype': 'PPM',\n",
       "  'languages': ['eng'],\n",
       "  'last_modified': '2024-11-17T03:24:43',\n",
       "  'page_number': 1,\n",
       "  'id': 'm0',\n",
       "  'text': 'Oracle Fusion Cloud Talent Management\\n\\nImplementing Recruiting\\n\\n24D \\n\\nOracle Fusion Cloud Talent Management Implementing Recruiting\\n\\n24D\\n\\nG12668-03\\n\\nCopyright © 2011, 2024, Oracle and/or its affiliates.\\n\\nAuthor: Viviane Filloles\\n\\nOracle Fusion Cloud Talent Management Implementing Recruiting\\n\\nContents\\n\\nGet Help ................................................................................................................................ i',\n",
       "  'source': 'Manual'},\n",
       " {'last_modified': '2024-11-17T03:24:43',\n",
       "  'filetype': 'PPM',\n",
       "  'languages': ['eng'],\n",
       "  'page_number': 3,\n",
       "  'id': 'm1',\n",
       "  'text': 'Overview of Implementing Recruiting ........................................................................................................................................ 1 Recruiting and Candidate Experience Offering ....................................................................................................................... 2 Recruiting Setup and Maintenance Tasks',\n",
       "  'source': 'Manual'},\n",
       " {'last_modified': '2024-11-17T03:24:43',\n",
       "  'filetype': 'PPM',\n",
       "  'languages': ['eng'],\n",
       "  'page_number': 3,\n",
       "  'is_continuation': True,\n",
       "  'id': 'm2',\n",
       "  'text': '................................................................................................................................. 2 Deep Links ...................................................................................................................................................................................... 12 Maintaining Oracle Search for Oracle Recruiting ................................................................................................................... 12',\n",
       "  'source': 'Manual'}]"
      ]
     },
     "execution_count": 66,
     "metadata": {},
     "output_type": "execute_result"
    }
   ],
   "source": [
    "newchunks[:3]"
   ]
  },
  {
   "cell_type": "code",
   "execution_count": 67,
   "id": "52b717e4-205e-4c3a-88ca-dae7eef2b312",
   "metadata": {},
   "outputs": [],
   "source": [
    "#pip install pinecone"
   ]
  },
  {
   "cell_type": "code",
   "execution_count": 68,
   "id": "e6b430ee-3e45-4fac-a643-ecb0109d2ce3",
   "metadata": {},
   "outputs": [],
   "source": [
    "from pinecone import Pinecone, ServerlessSpec\n",
    "pc = Pinecone(api_key=\"pcsk_ToN8G_48StUwjtuiqLt5XGSXFLaG8LJWAwpev86SU1Xu4GgiZbAo9LZA2tNfAJSHmj52S\")"
   ]
  },
  {
   "cell_type": "code",
   "execution_count": 109,
   "id": "4625b6b1-d9b4-4bda-ad84-2c60cf8bfd22",
   "metadata": {},
   "outputs": [],
   "source": [
    "index_name = \"oracledocs\"\n",
    "\n",
    "# pc.create_index(\n",
    "#     name=index_name,\n",
    "#     dimension=1024, # Replace with your model dimensions\n",
    "#     metric=\"cosine\", # Replace with your model metric\n",
    "#     spec=ServerlessSpec(\n",
    "#         cloud=\"aws\",\n",
    "#         region=\"us-east-1\"\n",
    "#     ) \n",
    "# )\n",
    "\n",
    "index = pc.Index(index_name)\n"
   ]
  },
  {
   "cell_type": "code",
   "execution_count": 70,
   "id": "e4361be0-8891-4ec0-8f77-5440757c131f",
   "metadata": {},
   "outputs": [],
   "source": [
    "rng = [i for i in range(0,len(newchunks),50)]\n",
    "\n",
    "if rng[-1] < len(newchunks):\n",
    "    rng.append(len(newchunks))\n",
    "   "
   ]
  },
  {
   "cell_type": "code",
   "execution_count": 78,
   "id": "e32ccd16-1c93-4e5d-99fd-b3f723096d01",
   "metadata": {},
   "outputs": [
    {
     "name": "stdout",
     "output_type": "stream",
     "text": [
      "0\n",
      "10\n",
      "20\n",
      "30\n",
      "40\n",
      "50\n",
      "60\n"
     ]
    }
   ],
   "source": [
    "embeddings =[]\n",
    "\n",
    "for i in range(len(rng)-1):\n",
    "    if (i%10 == 0):\n",
    "        print(i)\n",
    "    e = pc.inference.embed(\n",
    "        model=\"multilingual-e5-large\",\n",
    "        inputs=[d['text'] for d in newchunks[rng[i]:rng[i+1]]],\n",
    "        parameters={\"input_type\": \"passage\", \"truncate\": \"END\"}\n",
    "    )\n",
    "    embeddings.extend(e)"
   ]
  },
  {
   "cell_type": "code",
   "execution_count": 80,
   "id": "6f672f95-3c1d-4ca4-9d67-b5159ea085d7",
   "metadata": {},
   "outputs": [
    {
     "name": "stdout",
     "output_type": "stream",
     "text": [
      "{'values': [0.024078369140625, -0.00012552738189697266, ..., -0.026885986328125, -0.0024871826171875]}\n"
     ]
    }
   ],
   "source": [
    "print(embeddings[0])"
   ]
  },
  {
   "cell_type": "code",
   "execution_count": 79,
   "id": "d8aac556-a563-4271-9185-c07d73cef7f0",
   "metadata": {},
   "outputs": [
    {
     "data": {
      "text/plain": [
       "3131"
      ]
     },
     "execution_count": 79,
     "metadata": {},
     "output_type": "execute_result"
    }
   ],
   "source": [
    "len(newchunks)"
   ]
  },
  {
   "cell_type": "code",
   "execution_count": 82,
   "id": "acb19c82-12b0-4a71-aa37-c7f64ef39a54",
   "metadata": {},
   "outputs": [],
   "source": [
    "vectors = []\n",
    "for d, e in zip(newchunks, embeddings):\n",
    "    vectors.append({\n",
    "        \"id\": d['id'],\n",
    "        \"values\": e['values'],\n",
    "        \"metadata\": d\n",
    "    })"
   ]
  },
  {
   "cell_type": "code",
   "execution_count": 84,
   "id": "df1b2f61-ee86-409b-8ad0-ae52120df37c",
   "metadata": {},
   "outputs": [
    {
     "data": {
      "text/plain": [
       "3131"
      ]
     },
     "execution_count": 84,
     "metadata": {},
     "output_type": "execute_result"
    }
   ],
   "source": [
    "len(vectors)"
   ]
  },
  {
   "cell_type": "code",
   "execution_count": 105,
   "id": "4174290d-b183-43fb-a43d-aec8452197c7",
   "metadata": {},
   "outputs": [],
   "source": [
    "rng = [i for i in range(0,len(newchunks),300)]\n",
    "\n",
    "if rng[-1] < len(newchunks):\n",
    "    rng.append(len(newchunks))\n",
    "   "
   ]
  },
  {
   "cell_type": "code",
   "execution_count": 107,
   "id": "7704c8e0-e6dd-446b-8496-05a9e757763d",
   "metadata": {},
   "outputs": [
    {
     "data": {
      "text/plain": [
       "[0, 300, 600, 900, 1200, 1500, 1800, 2100, 2400, 2700, 3000, 3131]"
      ]
     },
     "execution_count": 107,
     "metadata": {},
     "output_type": "execute_result"
    }
   ],
   "source": [
    "rng"
   ]
  },
  {
   "cell_type": "code",
   "execution_count": 110,
   "id": "609e92da-780d-436e-99f7-df2d60f3b039",
   "metadata": {},
   "outputs": [
    {
     "name": "stdout",
     "output_type": "stream",
     "text": [
      "0\n",
      "10\n"
     ]
    }
   ],
   "source": [
    "for i in range(len(rng)-1):\n",
    "    if (i%10 == 0):\n",
    "        print(i)\n",
    "    index.upsert(\n",
    "    vectors=vectors[rng[i]:rng[i+1]],\n",
    "    namespace=\"ns1\"\n",
    ")"
   ]
  },
  {
   "cell_type": "code",
   "execution_count": 112,
   "id": "7cf05ad4-99bf-41b2-b4a8-11debb275cfa",
   "metadata": {},
   "outputs": [],
   "source": [
    "from unstructured.partition.docx import partition_docx"
   ]
  },
  {
   "cell_type": "code",
   "execution_count": 114,
   "id": "c5ea8ac7-33bf-4943-a0cf-ed0dde2d9340",
   "metadata": {},
   "outputs": [],
   "source": [
    "import os"
   ]
  },
  {
   "cell_type": "code",
   "execution_count": 125,
   "id": "85fc97fe-bfe7-47d5-b296-28bd0b53cbe9",
   "metadata": {},
   "outputs": [
    {
     "name": "stdout",
     "output_type": "stream",
     "text": [
      "HCM_Talent Management_Recruit_Sample10.docx\n",
      "HCM_Talent Management_Recruit_Sample7.docx\n",
      "HCM_Talent Management_Recruit_Sample1.docx\n",
      "HCM_Talent Management_Recruit_Sample5.docx\n",
      "HCM_Talent Management_Recruit_Sample8.docx\n",
      "h.docx\n",
      "HCM_Talent Management_Recruit_Sample6.docx\n",
      "HCM_Talent Management_Recruit_Sample9.docx\n",
      "HCM_Talent Management_Recruit_Sample2.docx\n",
      "HCM_Talent Management_Recruit_Sample3.docx\n",
      "HCM_Talent Management_Recruit_Sample4.docx\n"
     ]
    }
   ],
   "source": [
    "elements2 = []\n",
    "for f in os.listdir(\"./data/sdd/\"):\n",
    "    print(f)\n",
    "    e = partition_docx(\"./data/sdd/\"+f,strategy=\"hi_res\")\n",
    "    elements2.extend(e)"
   ]
  },
  {
   "cell_type": "code",
   "execution_count": 126,
   "id": "5d620ce3-aadd-4828-a36c-180eda2ac920",
   "metadata": {},
   "outputs": [
    {
     "data": {
      "text/plain": [
       "[<unstructured.documents.elements.Title at 0x7f1e2ae9d050>,\n",
       " <unstructured.documents.elements.Title at 0x7f1ef5decc10>,\n",
       " <unstructured.documents.elements.Title at 0x7f1ef5deeed0>]"
      ]
     },
     "execution_count": 126,
     "metadata": {},
     "output_type": "execute_result"
    }
   ],
   "source": [
    "elements2[:3]"
   ]
  },
  {
   "cell_type": "code",
   "execution_count": 132,
   "id": "8044f572-3d19-43a9-bd04-25fdde20f677",
   "metadata": {},
   "outputs": [
    {
     "data": {
      "text/plain": [
       "{'CompositeElement', 'Table'}"
      ]
     },
     "execution_count": 132,
     "metadata": {},
     "output_type": "execute_result"
    }
   ],
   "source": [
    "set([e.category for e in chunks2])"
   ]
  },
  {
   "cell_type": "code",
   "execution_count": null,
   "id": "17374b6a-7c72-43a7-836a-c834e13ffc49",
   "metadata": {},
   "outputs": [],
   "source": []
  },
  {
   "cell_type": "code",
   "execution_count": 128,
   "id": "b7d5d5cb-b839-418d-aeca-a6b9ea1d0ef9",
   "metadata": {},
   "outputs": [],
   "source": [
    "from unstructured.chunking.title import chunk_by_title"
   ]
  },
  {
   "cell_type": "code",
   "execution_count": 129,
   "id": "99b636f4-18c1-4525-b588-4d3c2c500641",
   "metadata": {},
   "outputs": [],
   "source": [
    "chunks2 = chunk_by_title(elements2)"
   ]
  },
  {
   "cell_type": "code",
   "execution_count": 135,
   "id": "6c58a2f9-3492-4bff-a64f-b0a4d6de38df",
   "metadata": {},
   "outputs": [],
   "source": [
    "newchunks2 = []\n",
    "i = 0\n",
    "for c in chunks2:\n",
    "    d = c.metadata.to_dict()\n",
    "    del d['orig_elements']\n",
    "    d['id'] = 'd'+str(i)\n",
    "    if c.category == 'Table':\n",
    "        d['text'] = c.metadata.text_as_html\n",
    "        del d['text_as_html']\n",
    "    else:\n",
    "        d['text'] = str(c)\n",
    "    d['source'] = 'Design'\n",
    "    newchunks2.append(d)\n",
    "    i = i + 1"
   ]
  },
  {
   "cell_type": "code",
   "execution_count": 136,
   "id": "9e561095-a8f0-41b4-84de-a6ff395708ee",
   "metadata": {},
   "outputs": [
    {
     "data": {
      "text/plain": [
       "[{'file_directory': './data/sdd',\n",
       "  'filename': 'HCM_Talent Management_Recruit_Sample10.docx',\n",
       "  'filetype': 'application/vnd.openxmlformats-officedocument.wordprocessingml.document',\n",
       "  'languages': ['eng'],\n",
       "  'last_modified': '2024-11-17T12:08:38',\n",
       "  'page_number': 1,\n",
       "  'id': 'd0',\n",
       "  'text': 'Solution Design Document\\n\\nKCH\\n\\nORACLE RECRUITMENT CLOUD\\n\\nAuthor           :\\t\\n\\nCreation Date:\\t18th October 2023\\n\\nLast Updated:\\t27th December 2023\\n\\nDocument Ref:\\tLatest Release\\n\\nVersion           :\\tV1.1\\n\\nDocument Control\\n\\n Change Record',\n",
       "  'source': 'Design'},\n",
       " {'file_directory': './data/sdd',\n",
       "  'filename': 'HCM_Talent Management_Recruit_Sample10.docx',\n",
       "  'last_modified': '2024-11-17T12:08:38',\n",
       "  'page_number': 2,\n",
       "  'languages': ['eng'],\n",
       "  'filetype': 'application/vnd.openxmlformats-officedocument.wordprocessingml.document',\n",
       "  'id': 'd1',\n",
       "  'text': '<table><tr><td>Version No.</td><td>Date</td><td>Amendment History</td><td>Remarks</td></tr><tr><td>V1.0</td><td>18-Oct- 2023</td><td>No Previous Version</td><td>Based on HLA discussion</td></tr><tr><td>V1.1</td><td>27-Dec-2023</td><td>V1.0</td><td>Based on CRP-2</td></tr><tr><td/><td/><td/><td/></tr><tr><td/><td/><td/><td/></tr><tr><td/><td/><td/><td/></tr></table>',\n",
       "  'source': 'Design'},\n",
       " {'file_directory': './data/sdd',\n",
       "  'filename': 'HCM_Talent Management_Recruit_Sample10.docx',\n",
       "  'filetype': 'application/vnd.openxmlformats-officedocument.wordprocessingml.document',\n",
       "  'languages': ['eng'],\n",
       "  'last_modified': '2024-11-17T12:08:38',\n",
       "  'page_number': 2,\n",
       "  'id': 'd2',\n",
       "  'text': ' Reviewers',\n",
       "  'source': 'Design'},\n",
       " {'file_directory': './data/sdd',\n",
       "  'filename': 'HCM_Talent Management_Recruit_Sample10.docx',\n",
       "  'last_modified': '2024-11-17T12:08:38',\n",
       "  'page_number': 2,\n",
       "  'languages': ['eng'],\n",
       "  'filetype': 'application/vnd.openxmlformats-officedocument.wordprocessingml.document',\n",
       "  'id': 'd3',\n",
       "  'text': '<table><tr><td>Name</td><td>Organization</td><td>Position</td></tr><tr><td/><td>Mastek</td><td>Solution Architect</td></tr><tr><td/><td>Mastek</td><td>Project Manager</td></tr><tr><td/><td>Mastek</td><td>Program Manager</td></tr><tr><td/><td>KCH</td><td>Business Specialist</td></tr><tr><td/><td>KCH</td><td>Project Manager</td></tr></table>',\n",
       "  'source': 'Design'},\n",
       " {'emphasized_text_contents': ['Title, Subject, Last Updated Date, Reference Number',\n",
       "   'and',\n",
       "   'Version',\n",
       "   'You can make bookmarks visible by selecting the Office Button>Word Options>Advanced> and checking the Show bookmarks option in the Show document content region.'],\n",
       "  'emphasized_text_tags': ['b', 'b', 'b', 'b'],\n",
       "  'file_directory': './data/sdd',\n",
       "  'filename': 'HCM_Talent Management_Recruit_Sample10.docx',\n",
       "  'filetype': 'application/vnd.openxmlformats-officedocument.wordprocessingml.document',\n",
       "  'languages': ['eng'],\n",
       "  'last_modified': '2024-11-17T12:08:38',\n",
       "  'page_number': 2,\n",
       "  'id': 'd4',\n",
       "  'text': 'Title, Subject, Last Updated Date, Reference Number, and Version are marked by a Word Bookmark so that they can be easily reproduced in the header and footer of documents.  When you change any of these values, be careful not to accidentally delete the bookmark.  You can make bookmarks visible by selecting the Office Button>Word Options>Advanced> and checking the Show bookmarks option in the Show document content region.',\n",
       "  'source': 'Design'},\n",
       " {'emphasized_text_contents': ['Title, Subject, Last Updated Date, Reference Number',\n",
       "   'and',\n",
       "   'Version',\n",
       "   'You can make bookmarks visible by selecting the Office Button>Word Options>Advanced> and checking the Show bookmarks option in the Show document content region.'],\n",
       "  'emphasized_text_tags': ['b', 'b', 'b', 'b'],\n",
       "  'file_directory': './data/sdd',\n",
       "  'filename': 'HCM_Talent Management_Recruit_Sample10.docx',\n",
       "  'filetype': 'application/vnd.openxmlformats-officedocument.wordprocessingml.document',\n",
       "  'languages': ['eng'],\n",
       "  'last_modified': '2024-11-17T12:08:38',\n",
       "  'page_number': 2,\n",
       "  'id': 'd5',\n",
       "  'text': 'Title, Subject, Last Updated Date, Reference Number, and Version are marked by a Word Bookmark so that they can be easily reproduced in the header and footer of documents.  When you change any of these values, be careful not to accidentally delete the bookmark.  You can make bookmarks visible by selecting the Office Button>Word Options>Advanced> and checking the Show bookmarks option in the Show document content region.',\n",
       "  'source': 'Design'},\n",
       " {'file_directory': './data/sdd',\n",
       "  'filename': 'HCM_Talent Management_Recruit_Sample10.docx',\n",
       "  'filetype': 'application/vnd.openxmlformats-officedocument.wordprocessingml.document',\n",
       "  'languages': ['eng'],\n",
       "  'last_modified': '2024-11-17T12:08:38',\n",
       "  'page_number': 3,\n",
       "  'id': 'd6',\n",
       "  'text': 'Introduction\\n\\nThe recruitment process includes working with requisitions and tracking applicant information. You enter a requisition to begin the process of filling a vacancy within the organization. A requisition is a record or document that contains information about the open position (an employee assignment for a fiscal year) and job description (the duties that an employee performs for the organization).',\n",
       "  'source': 'Design'},\n",
       " {'file_directory': './data/sdd',\n",
       "  'filename': 'HCM_Talent Management_Recruit_Sample10.docx',\n",
       "  'filetype': 'application/vnd.openxmlformats-officedocument.wordprocessingml.document',\n",
       "  'languages': ['eng'],\n",
       "  'last_modified': '2024-11-17T12:08:38',\n",
       "  'page_number': 3,\n",
       "  'id': 'd7',\n",
       "  'text': 'This document provides KCH with Requisition Management, Candidate Management, Offer Process, and other requirements along with Fit gap analysis sections.',\n",
       "  'source': 'Design'},\n",
       " {'file_directory': './data/sdd',\n",
       "  'filename': 'HCM_Talent Management_Recruit_Sample10.docx',\n",
       "  'filetype': 'application/vnd.openxmlformats-officedocument.wordprocessingml.document',\n",
       "  'languages': ['eng'],\n",
       "  'last_modified': '2024-11-17T12:08:38',\n",
       "  'page_number': 3,\n",
       "  'id': 'd8',\n",
       "  'text': 'Purpose\\n\\nThe purpose of this document is to describe the key business structural elements that affect subsequent set up of the application. This deliverable is used to assist in the development of application setup. It includes:\\n\\nRequisition Process\\n\\nRequisition Management\\n\\nCandidate Management\\n\\nOffer Management\\n\\nCareer Sites\\n\\nOnboarding Process\\n\\nHLA/CRP-1 Decisions\\n\\nOpen and Closed Points',\n",
       "  'source': 'Design'},\n",
       " {'emphasized_text_contents': ['Req',\n",
       "   'ID',\n",
       "   'Categorization:',\n",
       "   'Req',\n",
       "   'Description:'],\n",
       "  'emphasized_text_tags': ['b', 'b', 'b', 'b', 'b'],\n",
       "  'file_directory': './data/sdd',\n",
       "  'filename': 'HCM_Talent Management_Recruit_Sample10.docx',\n",
       "  'filetype': 'application/vnd.openxmlformats-officedocument.wordprocessingml.document',\n",
       "  'languages': ['eng'],\n",
       "  'last_modified': '2024-11-17T12:08:38',\n",
       "  'page_number': 3,\n",
       "  'id': 'd9',\n",
       "  'text': 'How is this document organised:\\n\\nThis document contains Oracle Recruitment management Processes, as the scope of this project.\\n\\nThe requirement listing and requirement description table provides a name and description for each requirement provided. The table has the following columns.\\n\\nReq ID: An Id to denote each requirement mentioned in BRD.\\n\\nCategorization: Categorization done on basis of oracle standard terminologies.\\n\\nReq Description: Detailed Description of the requirement.',\n",
       "  'source': 'Design'}]"
      ]
     },
     "execution_count": 136,
     "metadata": {},
     "output_type": "execute_result"
    }
   ],
   "source": [
    "newchunks2[:10]"
   ]
  },
  {
   "cell_type": "code",
   "execution_count": 138,
   "id": "16085f2a-d43c-40bd-a22b-78cbf7d4ae1d",
   "metadata": {},
   "outputs": [],
   "source": [
    "rng = [i for i in range(0,len(newchunks2),50)]\n",
    "\n",
    "if rng[-1] < len(newchunks2):\n",
    "    rng.append(len(newchunks2))"
   ]
  },
  {
   "cell_type": "code",
   "execution_count": 139,
   "id": "c806c25f-2664-4346-afb6-82e39af76574",
   "metadata": {},
   "outputs": [
    {
     "name": "stdout",
     "output_type": "stream",
     "text": [
      "0\n",
      "10\n",
      "20\n",
      "30\n",
      "40\n"
     ]
    }
   ],
   "source": [
    "embeddings =[]\n",
    "\n",
    "for i in range(len(rng)-1):\n",
    "    if (i%10 == 0):\n",
    "        print(i)\n",
    "    e = pc.inference.embed(\n",
    "        model=\"multilingual-e5-large\",\n",
    "        inputs=[d['text'] for d in newchunks2[rng[i]:rng[i+1]]],\n",
    "        parameters={\"input_type\": \"passage\", \"truncate\": \"END\"}\n",
    "    )\n",
    "    embeddings.extend(e)"
   ]
  },
  {
   "cell_type": "code",
   "execution_count": 140,
   "id": "e58993f2-1abc-41bb-90b2-891521bf4ad7",
   "metadata": {},
   "outputs": [],
   "source": [
    "vectors = []\n",
    "for d, e in zip(newchunks2, embeddings):\n",
    "    vectors.append({\n",
    "        \"id\": d['id'],\n",
    "        \"values\": e['values'],\n",
    "        \"metadata\": d\n",
    "    })"
   ]
  },
  {
   "cell_type": "code",
   "execution_count": 141,
   "id": "eeead3c5-a394-4663-89a8-3e10128676b3",
   "metadata": {},
   "outputs": [
    {
     "data": {
      "text/plain": [
       "2019"
      ]
     },
     "execution_count": 141,
     "metadata": {},
     "output_type": "execute_result"
    }
   ],
   "source": [
    "len(vectors)"
   ]
  },
  {
   "cell_type": "code",
   "execution_count": 142,
   "id": "ebf0b66d-f492-4bed-a461-ea9a4c1b72c1",
   "metadata": {},
   "outputs": [],
   "source": [
    "rng = [i for i in range(0,len(newchunks2),300)]\n",
    "\n",
    "if rng[-1] < len(newchunks2):\n",
    "    rng.append(len(newchunks2))\n",
    "   "
   ]
  },
  {
   "cell_type": "code",
   "execution_count": 143,
   "id": "8febc954-551f-41d8-a847-d701b98c9a4b",
   "metadata": {},
   "outputs": [
    {
     "name": "stdout",
     "output_type": "stream",
     "text": [
      "0\n"
     ]
    }
   ],
   "source": [
    "for i in range(len(rng)-1):\n",
    "    if (i%10 == 0):\n",
    "        print(i)\n",
    "    index.upsert(\n",
    "    vectors=vectors[rng[i]:rng[i+1]],\n",
    "    namespace=\"ns1\"\n",
    ")"
   ]
  },
  {
   "cell_type": "code",
   "execution_count": null,
   "id": "3e55489f-9828-47b5-bd4e-39b005daec1f",
   "metadata": {},
   "outputs": [],
   "source": []
  }
 ],
 "metadata": {
  "kernelspec": {
   "display_name": "Python 3 (ipykernel)",
   "language": "python",
   "name": "python3"
  },
  "language_info": {
   "codemirror_mode": {
    "name": "ipython",
    "version": 3
   },
   "file_extension": ".py",
   "mimetype": "text/x-python",
   "name": "python",
   "nbconvert_exporter": "python",
   "pygments_lexer": "ipython3",
   "version": "3.11.10"
  }
 },
 "nbformat": 4,
 "nbformat_minor": 5
}
